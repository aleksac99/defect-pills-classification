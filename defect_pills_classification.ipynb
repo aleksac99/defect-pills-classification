{
 "cells": [
  {
   "cell_type": "markdown",
   "metadata": {},
   "source": [
    "# Defect Pills Classification\n",
    "This Notebook contains CNN which trained for Defect Pills Classification.\n",
    "Dataset contains 215 defect pills and 140 normal pills. It can be found on the following website: https://www.kaggle.com/pudpawat/pill-defect-dataset\n",
    "\n",
    "If you own this dataset and want my notebook taken down, please contact me and I will do that immediately."
   ]
  },
  {
   "cell_type": "code",
   "execution_count": 1,
   "metadata": {},
   "outputs": [],
   "source": [
    "# Import modules\n",
    "import tensorflow as tf\n",
    "from tensorflow.keras import layers\n",
    "import os\n",
    "import matplotlib.pyplot as plt\n",
    "import numpy as np\n",
    "import cv2"
   ]
  },
  {
   "cell_type": "code",
   "execution_count": 2,
   "metadata": {},
   "outputs": [],
   "source": [
    "# Create data folder variables\n",
    "data_dir = 'Pill-Defects-main/'\n",
    "defect_folder = data_dir+'defect'\n",
    "normal_folder = data_dir+'normal'\n",
    "\n",
    "# List with image names\n",
    "defect_names=os.listdir(defect_folder)\n",
    "normal_names=os.listdir(normal_folder)\n",
    "\n",
    "# Number of defect and normal images\n",
    "defect_count = len(defect_names)\n",
    "normal_count = len(normal_names)"
   ]
  },
  {
   "cell_type": "code",
   "execution_count": 3,
   "metadata": {},
   "outputs": [],
   "source": [
    "# Size of each image\n",
    "w, h = cv2.imread('/'.join([defect_folder, defect_names[0]]), cv2.IMREAD_GRAYSCALE).shape\n",
    "\n",
    "total_img = defect_count+normal_count # Total number of images\n",
    "\n",
    "# Create input array\n",
    "X = np.zeros((total_img, w, h), dtype=np.float)\n",
    "\n",
    "for i in range(defect_count):\n",
    "    X[i, :, :] = cv2.imread('/'.join([defect_folder, defect_names[i]]), cv2.IMREAD_GRAYSCALE).astype(np.float)/255\n",
    "\n",
    "for i in range(normal_count):\n",
    "    X[i+defect_count, :, :] = cv2.imread('/'.join([normal_folder, normal_names[i]]), cv2.IMREAD_GRAYSCALE).astype(np.float)/255\n",
    "\n",
    "# Create output array\n",
    "Y = np.hstack((np.zeros(defect_count), np.ones(normal_count)))"
   ]
  },
  {
   "cell_type": "code",
   "execution_count": 4,
   "metadata": {},
   "outputs": [],
   "source": [
    "# Divide dataset into train/test sets\n",
    "np.random.seed()\n",
    "ind = np.arange(total_img)\n",
    "ind = np.random.permutation(ind)\n",
    "train_ind = int(0.8*total_img)\n",
    "\n",
    "X_train = X[ind[0:train_ind], :, :]\n",
    "X_test = X[ind[train_ind+1:], :, :]\n",
    "Y_train = Y[ind[0:train_ind]]\n",
    "Y_test = Y[ind[train_ind+1:]]\n",
    "\n",
    "# Expand dims to create suitable input array\n",
    "X_train = np.expand_dims(X_train, 3)\n",
    "X_test = np.expand_dims(X_test, 3)"
   ]
  },
  {
   "cell_type": "code",
   "execution_count": 5,
   "metadata": {},
   "outputs": [
    {
     "name": "stdout",
     "output_type": "stream",
     "text": [
      "Model: \"sequential\"\n",
      "_________________________________________________________________\n",
      "Layer (type)                 Output Shape              Param #   \n",
      "=================================================================\n",
      "conv2d (Conv2D)              (None, 512, 512, 8)       80        \n",
      "_________________________________________________________________\n",
      "max_pooling2d (MaxPooling2D) (None, 256, 256, 8)       0         \n",
      "_________________________________________________________________\n",
      "conv2d_1 (Conv2D)            (None, 256, 256, 16)      1168      \n",
      "_________________________________________________________________\n",
      "max_pooling2d_1 (MaxPooling2 (None, 128, 128, 16)      0         \n",
      "_________________________________________________________________\n",
      "conv2d_2 (Conv2D)            (None, 128, 128, 32)      4640      \n",
      "_________________________________________________________________\n",
      "max_pooling2d_2 (MaxPooling2 (None, 64, 64, 32)        0         \n",
      "_________________________________________________________________\n",
      "conv2d_3 (Conv2D)            (None, 64, 64, 64)        18496     \n",
      "_________________________________________________________________\n",
      "max_pooling2d_3 (MaxPooling2 (None, 32, 32, 64)        0         \n",
      "_________________________________________________________________\n",
      "conv2d_4 (Conv2D)            (None, 32, 32, 128)       73856     \n",
      "_________________________________________________________________\n",
      "max_pooling2d_4 (MaxPooling2 (None, 16, 16, 128)       0         \n",
      "_________________________________________________________________\n",
      "conv1d (Conv1D)              (None, 16, 16, 16)        6160      \n",
      "_________________________________________________________________\n",
      "flatten (Flatten)            (None, 4096)              0         \n",
      "_________________________________________________________________\n",
      "dense (Dense)                (None, 32)                131104    \n",
      "_________________________________________________________________\n",
      "dense_1 (Dense)              (None, 64)                2112      \n",
      "_________________________________________________________________\n",
      "dense_2 (Dense)              (None, 128)               8320      \n",
      "_________________________________________________________________\n",
      "dense_3 (Dense)              (None, 1)                 129       \n",
      "=================================================================\n",
      "Total params: 246,065\n",
      "Trainable params: 246,065\n",
      "Non-trainable params: 0\n",
      "_________________________________________________________________\n"
     ]
    }
   ],
   "source": [
    "# Build CNN model\n",
    "model = tf.keras.models.Sequential(\n",
    "    [\n",
    "        layers.Conv2D(8, 3, padding='same', activation='relu', input_shape=(512,512, 1)),\n",
    "        layers.MaxPool2D(pool_size=(2,2), strides=None),\n",
    "        layers.Conv2D(16, 3, padding='same', activation='relu'),\n",
    "        layers.MaxPool2D(pool_size=(2,2), strides=None),\n",
    "        layers.Conv2D(32, 3, padding='same', activation='relu'),\n",
    "        layers.MaxPool2D(pool_size=(2,2), strides=None),\n",
    "        layers.Conv2D(64, 3, padding='same', activation='relu'),\n",
    "        layers.MaxPool2D(pool_size=(2,2), strides=None),\n",
    "        layers.Conv2D(128, 3, padding='same', activation='relu'),\n",
    "        layers.MaxPool2D(pool_size=(2,2), strides=None),\n",
    "        layers.Conv1D(16, 3, padding='same', activation='relu'), # Reduce number of filters\n",
    "        layers.Flatten(), # Prepare data for Dense layers\n",
    "        layers.Dense(32, activation='relu'),\n",
    "        layers.Dense(64, activation='relu'),\n",
    "        layers.Dense(128, activation='relu'),\n",
    "        layers.Dense(1, activation='sigmoid') # Sigmoid is used for Binary Classification problems\n",
    "    ]\n",
    ")\n",
    "\n",
    "# Return summary of created CNN\n",
    "model.summary()"
   ]
  },
  {
   "cell_type": "code",
   "execution_count": 6,
   "metadata": {},
   "outputs": [],
   "source": [
    "# Compile model\n",
    "model.compile(\n",
    "    optimizer='adam',\n",
    "    loss=tf.keras.losses.BinaryCrossentropy(from_logits=False),\n",
    "    metrics=[\"accuracy\"]\n",
    ")"
   ]
  },
  {
   "cell_type": "code",
   "execution_count": 7,
   "metadata": {},
   "outputs": [
    {
     "name": "stdout",
     "output_type": "stream",
     "text": [
      "Epoch 1/20\n",
      "4/4 [==============================] - 9s 2s/step - loss: 0.6847 - accuracy: 0.6132 - val_loss: 0.6787 - val_accuracy: 0.5789\n",
      "Epoch 2/20\n",
      "4/4 [==============================] - 8s 2s/step - loss: 0.6619 - accuracy: 0.6069 - val_loss: 0.6638 - val_accuracy: 0.5789\n",
      "Epoch 3/20\n",
      "4/4 [==============================] - 8s 2s/step - loss: 0.6508 - accuracy: 0.5975 - val_loss: 0.6473 - val_accuracy: 0.5789\n",
      "Epoch 4/20\n",
      "4/4 [==============================] - 8s 2s/step - loss: 0.6208 - accuracy: 0.6074 - val_loss: 0.6313 - val_accuracy: 0.5789\n",
      "Epoch 5/20\n",
      "4/4 [==============================] - 8s 2s/step - loss: 0.5781 - accuracy: 0.6199 - val_loss: 0.5680 - val_accuracy: 0.5789\n",
      "Epoch 6/20\n",
      "4/4 [==============================] - 8s 2s/step - loss: 0.5481 - accuracy: 0.6033 - val_loss: 0.4808 - val_accuracy: 0.5789\n",
      "Epoch 7/20\n",
      "4/4 [==============================] - 8s 2s/step - loss: 0.5014 - accuracy: 0.6937 - val_loss: 0.5673 - val_accuracy: 0.7544\n",
      "Epoch 8/20\n",
      "4/4 [==============================] - 8s 2s/step - loss: 0.5375 - accuracy: 0.7788 - val_loss: 0.4875 - val_accuracy: 0.9123\n",
      "Epoch 9/20\n",
      "4/4 [==============================] - 8s 2s/step - loss: 0.4687 - accuracy: 0.7605 - val_loss: 0.4460 - val_accuracy: 0.7719\n",
      "Epoch 10/20\n",
      "4/4 [==============================] - 8s 2s/step - loss: 0.4001 - accuracy: 0.8042 - val_loss: 0.3564 - val_accuracy: 0.8772\n",
      "Epoch 11/20\n",
      "4/4 [==============================] - 8s 2s/step - loss: 0.3553 - accuracy: 0.8504 - val_loss: 0.3289 - val_accuracy: 0.7719\n",
      "Epoch 12/20\n",
      "4/4 [==============================] - 8s 2s/step - loss: 0.2657 - accuracy: 0.8767 - val_loss: 0.1265 - val_accuracy: 1.0000\n",
      "Epoch 13/20\n",
      "4/4 [==============================] - 8s 2s/step - loss: 0.1215 - accuracy: 0.9813 - val_loss: 0.0437 - val_accuracy: 1.0000\n",
      "Epoch 14/20\n",
      "4/4 [==============================] - 8s 2s/step - loss: 0.0495 - accuracy: 1.0000 - val_loss: 0.0111 - val_accuracy: 1.0000\n",
      "Epoch 15/20\n",
      "4/4 [==============================] - 8s 2s/step - loss: 0.0113 - accuracy: 1.0000 - val_loss: 0.0019 - val_accuracy: 1.0000\n",
      "Epoch 16/20\n",
      "4/4 [==============================] - 8s 2s/step - loss: 0.0014 - accuracy: 1.0000 - val_loss: 9.1024e-04 - val_accuracy: 1.0000\n",
      "Epoch 17/20\n",
      "4/4 [==============================] - 8s 2s/step - loss: 8.4513e-04 - accuracy: 1.0000 - val_loss: 5.0506e-04 - val_accuracy: 1.0000\n",
      "Epoch 18/20\n",
      "4/4 [==============================] - 8s 2s/step - loss: 3.6525e-04 - accuracy: 1.0000 - val_loss: 1.0965e-04 - val_accuracy: 1.0000\n",
      "Epoch 19/20\n",
      "4/4 [==============================] - 8s 2s/step - loss: 8.1011e-05 - accuracy: 1.0000 - val_loss: 2.6461e-05 - val_accuracy: 1.0000\n",
      "Epoch 20/20\n",
      "4/4 [==============================] - 8s 2s/step - loss: 1.9797e-05 - accuracy: 1.0000 - val_loss: 8.9813e-06 - val_accuracy: 1.0000\n"
     ]
    },
    {
     "data": {
      "text/plain": [
       "<tensorflow.python.keras.callbacks.History at 0x18c9bed5b50>"
      ]
     },
     "execution_count": 7,
     "metadata": {},
     "output_type": "execute_result"
    }
   ],
   "source": [
    "# Train model\n",
    "model.fit(X_train, Y_train, batch_size=64, epochs=20, validation_split=0.2, callbacks=tf.keras.callbacks.EarlyStopping(monitor='val_loss', patience=5))"
   ]
  },
  {
   "cell_type": "code",
   "execution_count": 8,
   "metadata": {},
   "outputs": [
    {
     "name": "stdout",
     "output_type": "stream",
     "text": [
      "3/3 - 0s - loss: 8.9981e-06 - accuracy: 1.0000\n",
      "Test loss:  8.998094017442781e-06\n",
      "Test accuracy:  1.0\n"
     ]
    }
   ],
   "source": [
    "# Test model\n",
    "test_scores = model.evaluate(X_test, Y_test, verbose=2)\n",
    "print(\"Test loss: \", test_scores[0])\n",
    "print(\"Test accuracy: \", test_scores[1])"
   ]
  },
  {
   "cell_type": "code",
   "execution_count": 10,
   "metadata": {},
   "outputs": [
    {
     "name": "stdout",
     "output_type": "stream",
     "text": [
      "INFO:tensorflow:Assets written to: models/defect_pill_detection_model\\assets\n"
     ]
    }
   ],
   "source": [
    "# Save model\n",
    "model.save_weights('weights/final_weights')\n",
    "model.save('models/defect_pill_detection_model')"
   ]
  },
  {
   "cell_type": "markdown",
   "metadata": {},
   "source": [
    "# Results\n",
    "Results show that accuracy is 100% on both train/val and test sets. This shows that CNNs are a great approach to solving this type of problems."
   ]
  }
 ],
 "metadata": {
  "interpreter": {
   "hash": "50b2717ab029bb8bea4ad56536e2479f38f1549612ad2f5190b6e9af83ce4e2d"
  },
  "kernelspec": {
   "display_name": "Python 3.8.10 64-bit",
   "language": "python",
   "name": "python3"
  },
  "language_info": {
   "codemirror_mode": {
    "name": "ipython",
    "version": 3
   },
   "file_extension": ".py",
   "mimetype": "text/x-python",
   "name": "python",
   "nbconvert_exporter": "python",
   "pygments_lexer": "ipython3",
   "version": "3.8.10"
  },
  "orig_nbformat": 4
 },
 "nbformat": 4,
 "nbformat_minor": 2
}
